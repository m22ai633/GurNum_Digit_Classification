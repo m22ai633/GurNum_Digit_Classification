{
  "nbformat": 4,
  "nbformat_minor": 0,
  "metadata": {
    "colab": {
      "provenance": [],
      "mount_file_id": "1YsiMSVjOZ7WfvQmBFvhmobgzqSyJv_mb",
      "authorship_tag": "ABX9TyNuPRWvzhJIquVnuJIT1LwU",
      "include_colab_link": true
    },
    "kernelspec": {
      "name": "python3",
      "display_name": "Python 3"
    },
    "language_info": {
      "name": "python"
    }
  },
  "cells": [
    {
      "cell_type": "markdown",
      "metadata": {
        "id": "view-in-github",
        "colab_type": "text"
      },
      "source": [
        "<a href=\"https://colab.research.google.com/github/m22ai633/GurNum_Digit_Classification/blob/main/GurNum_Digit_Classification.ipynb\" target=\"_parent\"><img src=\"https://colab.research.google.com/assets/colab-badge.svg\" alt=\"Open In Colab\"/></a>"
      ]
    },
    {
      "cell_type": "code",
      "source": [
        "import numpy as np\n",
        "import tensorflow as tf\n",
        "import os\n",
        "import cv2\n",
        "from keras.layers import Dense, Flatten\n",
        "from tensorflow import keras\n",
        "from matplotlib import pyplot as plt\n",
        "%matplotlib inline\n"
      ],
      "metadata": {
        "id": "S8Fy5k-btkyG"
      },
      "execution_count": 110,
      "outputs": []
    },
    {
      "cell_type": "code",
      "source": [
        "train_path = '/content/drive/MyDrive/ML1_datasets/GurNum/train'\n",
        "val_path = '/content/drive/MyDrive/ML1_datasets/GurNum/val'"
      ],
      "metadata": {
        "id": "5-PpqlElt6Ll"
      },
      "execution_count": 111,
      "outputs": []
    },
    {
      "cell_type": "code",
      "source": [
        "def image_preprocessor(train_path,img_size=(32,32)):\n",
        "    # Get the list of folder names (i.e., class labels)\n",
        "    folder_names = sorted(os.listdir(train_path))\n",
        "    # Initialize empty lists for storing images and labels\n",
        "    images = []\n",
        "    labels = []\n",
        "\n",
        "    #Setting the image size\n",
        "    img_size = img_size\n",
        "    # define sharpening kernel\n",
        "    sharpen_kernel = np.array([[-1,-1,-1], [-1,9,-1], [-1,-1,-1]])\n",
        "    # Loop over each folder (i.e., class label)\n",
        "    for folder_name in folder_names:\n",
        "        # Get the path to the folder\n",
        "        folder_path = os.path.join(train_path, folder_name)\n",
        "\n",
        "        # Loop over each image in the folder\n",
        "        for filename in tq.tqdm(os.listdir(folder_path)):\n",
        "            # Get the path to the image\n",
        "            image_path = os.path.join(folder_path, filename)\n",
        "\n",
        "            # Read the image using OpenCV\n",
        "            image = cv2.imread(image_path, cv2.IMREAD_GRAYSCALE)\n",
        "            #resizing\n",
        "            image  = cv2.resize(image,img_size)\n",
        "            #Contrast high\n",
        "            image = cv2.equalizeHist(image)\n",
        "            #sharpening\n",
        "            image = cv2.filter2D(image, -1, sharpen_kernel)\n",
        "            #normalising\n",
        "            image = cv2.normalize(image, None, alpha=0, beta=1, norm_type=cv2.NORM_MINMAX)\n",
        "            #Handling outliers\n",
        "            #image = np.clip(image,0,1)\n",
        "            # Append the image and label to the lists\n",
        "            images.append(image)\n",
        "            labels.append(int(folder_name))  # Convert folder name to integer label\n",
        "\n",
        "    # Convert the lists to NumPy arrays\n",
        "    n_X = len(images)\n",
        "    n_y = len(set(labels)) \n",
        "    images = np.array(images)\n",
        "    labels = np.array(labels)\n",
        "    \n",
        "    return images,labels"
      ],
      "metadata": {
        "id": "iRjkEPThuAj0"
      },
      "execution_count": 112,
      "outputs": []
    },
    {
      "cell_type": "code",
      "source": [
        "x_train,y_train = image_preprocessor(train_path,img_size=(32,32))\n",
        "x_test,y_test = image_preprocessor(val_path,img_size=(32,32))"
      ],
      "metadata": {
        "colab": {
          "base_uri": "https://localhost:8080/"
        },
        "id": "gFvTdxD_uMX6",
        "outputId": "559b3a5a-1c58-450d-fa63-5401f935b5e5"
      },
      "execution_count": 113,
      "outputs": [
        {
          "output_type": "stream",
          "name": "stderr",
          "text": [
            "100%|██████████| 100/100 [00:00<00:00, 349.69it/s]\n",
            "100%|██████████| 100/100 [00:00<00:00, 331.82it/s]\n",
            "100%|██████████| 100/100 [00:00<00:00, 324.19it/s]\n",
            "100%|██████████| 100/100 [00:00<00:00, 312.93it/s]\n",
            "100%|██████████| 100/100 [00:00<00:00, 360.28it/s]\n",
            "100%|██████████| 100/100 [00:00<00:00, 348.41it/s]\n",
            "100%|██████████| 100/100 [00:00<00:00, 328.13it/s]\n",
            "100%|██████████| 100/100 [00:00<00:00, 318.05it/s]\n",
            "100%|██████████| 100/100 [00:00<00:00, 347.01it/s]\n",
            "100%|██████████| 100/100 [00:00<00:00, 342.38it/s]\n",
            "100%|██████████| 18/18 [00:00<00:00, 315.26it/s]\n",
            "100%|██████████| 16/16 [00:00<00:00, 362.94it/s]\n",
            "100%|██████████| 17/17 [00:00<00:00, 377.14it/s]\n",
            "100%|██████████| 17/17 [00:00<00:00, 386.19it/s]\n",
            "100%|██████████| 18/18 [00:00<00:00, 373.80it/s]\n",
            "100%|██████████| 18/18 [00:00<00:00, 378.71it/s]\n",
            "100%|██████████| 18/18 [00:00<00:00, 395.05it/s]\n",
            "100%|██████████| 18/18 [00:00<00:00, 426.61it/s]\n",
            "100%|██████████| 18/18 [00:00<00:00, 357.97it/s]\n",
            "100%|██████████| 20/20 [00:00<00:00, 390.32it/s]\n"
          ]
        }
      ]
    },
    {
      "cell_type": "code",
      "source": [
        "print(y_test[120])\n",
        "plt.matshow(x_test[120])"
      ],
      "metadata": {
        "colab": {
          "base_uri": "https://localhost:8080/",
          "height": 472
        },
        "id": "D6A-HcR4uchP",
        "outputId": "422c5d29-0d63-4e97-94bc-411137f1f8c8"
      },
      "execution_count": 114,
      "outputs": [
        {
          "output_type": "stream",
          "name": "stdout",
          "text": [
            "6\n"
          ]
        },
        {
          "output_type": "execute_result",
          "data": {
            "text/plain": [
              "<matplotlib.image.AxesImage at 0x7f6933d55780>"
            ]
          },
          "metadata": {},
          "execution_count": 114
        },
        {
          "output_type": "display_data",
          "data": {
            "text/plain": [
              "<Figure size 480x480 with 1 Axes>"
            ],
            "image/png": "[encoded data removed]"
          },
          "metadata": {}
        }
      ]
    },
    {
      "cell_type": "code",
      "source": [
        "nn_model = keras.Sequential([\n",
        "keras.layers.Flatten(),\n",
        "keras.layers.Dense(1024,input_shape=(1024,), activation='relu'),\n",
        "keras.layers.Dense(1024,input_shape=(512,), activation='sigmoid'),\n",
        "keras.layers.Dense(1024,input_shape=(256,), activation='relu'),\n",
        "keras.layers.Dense(10, activation='softmax')\n",
        "])"
      ],
      "metadata": {
        "id": "PZPCQQNZuiDJ"
      },
      "execution_count": 115,
      "outputs": []
    },
    {
      "cell_type": "code",
      "source": [
        "nn_model.compile(optimizer='adam',\n",
        "loss='sparse_categorical_crossentropy',\n",
        "metrics=['accuracy']\n",
        ")"
      ],
      "metadata": {
        "id": "z5GHirXNvRTA"
      },
      "execution_count": 116,
      "outputs": []
    },
    {
      "cell_type": "code",
      "source": [
        "nn_model.fit(x_train, y_train,epochs= 13, validation_data=(x_test, y_test))"
      ],
      "metadata": {
        "colab": {
          "base_uri": "https://localhost:8080/"
        },
        "id": "3POa31eBv7DL",
        "outputId": "3079a27e-ee4f-4f32-a3ff-b1f2e77f5d28"
      },
      "execution_count": 117,
      "outputs": [
        {
          "output_type": "stream",
          "name": "stdout",
          "text": [
            "Epoch 1/13\n",
            "32/32 [==============================] - 3s 61ms/step - loss: 2.3393 - accuracy: 0.2850 - val_loss: 1.1700 - val_accuracy: 0.7247\n",
            "Epoch 2/13\n",
            "32/32 [==============================] - 2s 60ms/step - loss: 0.5396 - accuracy: 0.8570 - val_loss: 0.4045 - val_accuracy: 0.8427\n",
            "Epoch 3/13\n",
            "32/32 [==============================] - 3s 89ms/step - loss: 0.2224 - accuracy: 0.9230 - val_loss: 0.3533 - val_accuracy: 0.8764\n",
            "Epoch 4/13\n",
            "32/32 [==============================] - 2s 67ms/step - loss: 0.1006 - accuracy: 0.9690 - val_loss: 0.1804 - val_accuracy: 0.9382\n",
            "Epoch 5/13\n",
            "32/32 [==============================] - 2s 58ms/step - loss: 0.0556 - accuracy: 0.9840 - val_loss: 0.2477 - val_accuracy: 0.9326\n",
            "Epoch 6/13\n",
            "32/32 [==============================] - 2s 59ms/step - loss: 0.0644 - accuracy: 0.9830 - val_loss: 0.3866 - val_accuracy: 0.9270\n",
            "Epoch 7/13\n",
            "32/32 [==============================] - 2s 56ms/step - loss: 0.0639 - accuracy: 0.9760 - val_loss: 0.1474 - val_accuracy: 0.9551\n",
            "Epoch 8/13\n",
            "32/32 [==============================] - 2s 57ms/step - loss: 0.0701 - accuracy: 0.9760 - val_loss: 0.1998 - val_accuracy: 0.9494\n",
            "Epoch 9/13\n",
            "32/32 [==============================] - 2s 66ms/step - loss: 0.0421 - accuracy: 0.9840 - val_loss: 0.4003 - val_accuracy: 0.8708\n",
            "Epoch 10/13\n",
            "32/32 [==============================] - 3s 83ms/step - loss: 0.0335 - accuracy: 0.9910 - val_loss: 0.2163 - val_accuracy: 0.9494\n",
            "Epoch 11/13\n",
            "32/32 [==============================] - 2s 67ms/step - loss: 0.0342 - accuracy: 0.9880 - val_loss: 0.2051 - val_accuracy: 0.9213\n",
            "Epoch 12/13\n",
            "32/32 [==============================] - 2s 54ms/step - loss: 0.0138 - accuracy: 0.9950 - val_loss: 0.1727 - val_accuracy: 0.9551\n",
            "Epoch 13/13\n",
            "32/32 [==============================] - 2s 56ms/step - loss: 0.0042 - accuracy: 1.0000 - val_loss: 0.1616 - val_accuracy: 0.9607\n"
          ]
        },
        {
          "output_type": "execute_result",
          "data": {
            "text/plain": [
              "<keras.callbacks.History at 0x7f692f3adb10>"
            ]
          },
          "metadata": {},
          "execution_count": 117
        }
      ]
    },
    {
      "cell_type": "code",
      "source": [
        "nn_model.evaluate(x_test,y_test)"
      ],
      "metadata": {
        "colab": {
          "base_uri": "https://localhost:8080/"
        },
        "id": "AVtVgNzbwBb7",
        "outputId": "b53365dd-379b-4149-bf33-b113eaca31b8"
      },
      "execution_count": 118,
      "outputs": [
        {
          "output_type": "stream",
          "name": "stdout",
          "text": [
            "6/6 [==============================] - 0s 10ms/step - loss: 0.1616 - accuracy: 0.9607\n"
          ]
        },
        {
          "output_type": "execute_result",
          "data": {
            "text/plain": [
              "[0.16162119805812836, 0.9606741666793823]"
            ]
          },
          "metadata": {},
          "execution_count": 118
        }
      ]
    },
    {
      "cell_type": "code",
      "source": [
        "# predict 1st image\n",
        "plt.matshow(x_test[20])\n",
        "y_predicted = nn_model.predict(x_test)\n",
        "y_predicted[20]\n",
        "\n",
        "print('Predicted Value is ',np.argmax(y_predicted[20]))\n",
        "# test some more values\n",
        "plt.matshow(x_test[76])\n",
        "print('Predicted Value is ',np.argmax(y_predicted[76]))\n",
        "plt.matshow(x_test[41])\n",
        "print('Predicted Value is ',np.argmax(y_predicted[41]))"
      ],
      "metadata": {
        "colab": {
          "base_uri": "https://localhost:8080/",
          "height": 1000
        },
        "id": "yj434H-NxIGK",
        "outputId": "1252c617-3c01-4dd8-e9a9-34a5c0622b1e"
      },
      "execution_count": 119,
      "outputs": [
        {
          "output_type": "stream",
          "name": "stdout",
          "text": [
            "6/6 [==============================] - 0s 9ms/step\n",
            "Predicted Value is  1\n",
            "Predicted Value is  4\n",
            "Predicted Value is  2\n"
          ]
        },
        {
          "output_type": "display_data",
          "data": {
            "text/plain": [
              "<Figure size 480x480 with 1 Axes>"
            ],
            "image/png": "[encoded data removed]"
          },
          "metadata": {}
        },
        {
          "output_type": "display_data",
          "data": {
            "text/plain": [
              "<Figure size 480x480 with 1 Axes>"
            ],
            "image/png": "[encoded data removed]"
          },
          "metadata": {}
        },
        {
          "output_type": "display_data",
          "data": {
            "text/plain": [
              "<Figure size 480x480 with 1 Axes>"
            ],
            "image/png": "[encoded data removed]"
          },
          "metadata": {}
        }
      ]
    },
    {
      "cell_type": "code",
      "source": [
        "y_predicted_labels=[np.argmax(i) for i in y_predicted]\n",
        "print(y_predicted_labels, len(y_predicted_labels))\n",
        "conf_mat = tf.math.confusion_matrix(labels=y_test, predictions=y_predicted_labels)\n",
        "conf_mat"
      ],
      "metadata": {
        "colab": {
          "base_uri": "https://localhost:8080/"
        },
        "id": "NVp0ZGOwxLDe",
        "outputId": "916519f6-aa3d-4541-e1b7-840175c0c634"
      },
      "execution_count": 120,
      "outputs": [
        {
          "output_type": "stream",
          "name": "stdout",
          "text": [
            "[0, 0, 0, 0, 0, 0, 0, 0, 0, 0, 0, 0, 0, 0, 0, 0, 0, 0, 1, 7, 1, 1, 7, 1, 1, 1, 7, 1, 1, 1, 1, 1, 1, 1, 4, 2, 2, 2, 2, 2, 2, 2, 3, 2, 2, 2, 2, 2, 2, 2, 2, 3, 3, 3, 3, 3, 3, 3, 3, 3, 3, 3, 3, 3, 3, 3, 3, 3, 4, 4, 4, 4, 4, 4, 4, 4, 4, 4, 4, 4, 4, 4, 4, 4, 4, 4, 5, 5, 5, 5, 5, 5, 5, 5, 5, 5, 5, 5, 5, 5, 5, 5, 5, 5, 6, 6, 6, 6, 6, 6, 6, 6, 6, 6, 6, 6, 6, 6, 6, 6, 6, 6, 7, 1, 7, 7, 7, 7, 7, 7, 7, 1, 7, 7, 7, 7, 7, 7, 7, 7, 8, 8, 8, 8, 8, 8, 8, 8, 8, 8, 8, 8, 8, 8, 8, 8, 8, 8, 9, 9, 9, 9, 9, 9, 9, 9, 9, 9, 9, 9, 9, 9, 9, 9, 9, 9, 9, 9] 178\n"
          ]
        },
        {
          "output_type": "execute_result",
          "data": {
            "text/plain": [
              "<tf.Tensor: shape=(10, 10), dtype=int32, numpy=\n",
              "array([[18,  0,  0,  0,  0,  0,  0,  0,  0,  0],\n",
              "       [ 0, 13,  0,  0,  0,  0,  0,  3,  0,  0],\n",
              "       [ 0,  0, 15,  1,  1,  0,  0,  0,  0,  0],\n",
              "       [ 0,  0,  0, 17,  0,  0,  0,  0,  0,  0],\n",
              "       [ 0,  0,  0,  0, 18,  0,  0,  0,  0,  0],\n",
              "       [ 0,  0,  0,  0,  0, 18,  0,  0,  0,  0],\n",
              "       [ 0,  0,  0,  0,  0,  0, 18,  0,  0,  0],\n",
              "       [ 0,  2,  0,  0,  0,  0,  0, 16,  0,  0],\n",
              "       [ 0,  0,  0,  0,  0,  0,  0,  0, 18,  0],\n",
              "       [ 0,  0,  0,  0,  0,  0,  0,  0,  0, 20]], dtype=int32)>"
            ]
          },
          "metadata": {},
          "execution_count": 120
        }
      ]
    },
    {
      "cell_type": "code",
      "source": [
        "import seaborn as sn\n",
        "plt.figure(figsize = (10,10))\n",
        "sn.heatmap(conf_mat,annot=True,fmt='d')\n",
        "plt.xlabel('Predicted')\n",
        "plt.ylabel('Actual')"
      ],
      "metadata": {
        "colab": {
          "base_uri": "https://localhost:8080/",
          "height": 872
        },
        "id": "Hf9GmZpxxRnh",
        "outputId": "962a5cef-066a-4649-fc42-ccc7aa3fd2e8"
      },
      "execution_count": 121,
      "outputs": [
        {
          "output_type": "execute_result",
          "data": {
            "text/plain": [
              "Text(95.72222222222221, 0.5, 'Actual')"
            ]
          },
          "metadata": {},
          "execution_count": 121
        },
        {
          "output_type": "display_data",
          "data": {
            "text/plain": [
              "<Figure size 1000x1000 with 2 Axes>"
            ],
            "image/png": "[encoded data removed]"
          },
          "metadata": {}
        }
      ]
    },
    {
      "cell_type": "code",
      "source": [],
      "metadata": {
        "id": "is5mweiyxUrE"
      },
      "execution_count": 121,
      "outputs": []
    }
  ]
}